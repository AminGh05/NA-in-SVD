{
 "cells": [
  {
   "cell_type": "markdown",
   "id": "35949163",
   "metadata": {},
   "source": [
    "# Introduction to Singular-Value Decomposition\n",
    "\n",
    "A general way to decompose matrices"
   ]
  },
  {
   "cell_type": "markdown",
   "id": "24f5a925",
   "metadata": {},
   "source": [
    "## First, what is matrix composition?\n",
    "\n",
    "If we look at each matrix as a linear transformation, composition of matrices is essentially just a sequence of transformations in order\n",
    "- Composition of matrices is resulted from their multiplication\n",
    "- Each matrix with their form has a unique effect on vectors"
   ]
  },
  {
   "cell_type": "markdown",
   "id": "013be3ee",
   "metadata": {},
   "source": [
    "## Decomposition, a liiitle bit more difficult\n",
    "\n",
    "Imagine a matrix which is not in any special form like **Indentity**, **Scalar**, **Diagonal**, **Orthogonal**, etc.\n",
    "\n",
    "For us in order to know what it does and analyze it, it's neccessary to parse it into several matrices, but it's obvious this process won't be as easy as multiplying several matrices by each other\n",
    "\n",
    "so, let's take a look at some methods\n",
    "\n",
    "![Decomposition-Methods](pics/methods.png)"
   ]
  },
  {
   "cell_type": "markdown",
   "id": "ac8f990a",
   "metadata": {},
   "source": [
    "### Spectral decomposition, a Symmetric path to SVD\n",
    "\n",
    "Imagine S is a symmetric matrix, it can be decomposed as:\n",
    "\n",
    "$$S=QΛQ^T$$\n",
    "\n",
    "where Q is a orthogonal matrix whose columns are eigenvectors of S, Λ is a diagonal matrix with eigenvalues of S and $Q^T$ is transpose of Q\n",
    "\n",
    "Note: it is done because a symmetric matrix has perpendicular eigenvectors and we can change the basis by their product and then revert it by the product of their transpose - which is also the inverse.\n",
    "\n",
    "Example\n",
    "\n",
    "$$\n",
    "A = \\begin{bmatrix} 4 & 1 \\\\ 1 & 3 \\end{bmatrix}\n",
    "$$\n",
    "\n",
    "1. Find eigenvalues: $\\lambda_1 = 5, \\lambda_2 = 2$\n",
    "2. Find orthonormal eigenvectors: $q_1, q_2$\n",
    "3. Then:\n",
    "\n",
    "$$\n",
    "A = Q \\Lambda Q^T\n",
    "$$\n",
    "\n",
    "Where:\n",
    "\n",
    "* $Q = [q_1\\ q_2]$\n",
    "* $\\Lambda = \\begin{bmatrix} 5 & 0 \\\\ 0 & 2 \\end{bmatrix}$\n"
   ]
  },
  {
   "cell_type": "markdown",
   "id": "b078dd3e",
   "metadata": {},
   "source": [
    "## Singular-Value Decomposition\n",
    "\n",
    "In contrast to Spectral Decomposition, we can use SVD to decompose any matrix. The idea is to first make a symmetric matrix of A and then do something like spectral decomposition.\n",
    "\n",
    "So let's build S with matrix A:\n",
    "$$S = A^TA$$\n",
    "\n",
    "then we say implementing spectral decomposition on S leads to:\n",
    "$$A=U\\Sigma V^T$$\n",
    "\n",
    "where U & V are orthogonal matrices and $\\Sigma$ is a rectangularly diagonal matrix - to change the dimension\n",
    "\n",
    "![SVD](pics/svd.png)\n",
    "\n",
    "### Another form\n",
    "\n",
    "It can be proved that this formula can be inferred from SVD:\n",
    "\n",
    "![Another](pics/another.png)"
   ]
  }
 ],
 "metadata": {
  "kernelspec": {
   "display_name": "Python 3",
   "language": "python",
   "name": "python3"
  },
  "language_info": {
   "name": "python",
   "version": "3.13.3"
  }
 },
 "nbformat": 4,
 "nbformat_minor": 5
}
